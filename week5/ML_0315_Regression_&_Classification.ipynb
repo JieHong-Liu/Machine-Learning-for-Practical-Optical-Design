{
  "cells": [
    {
      "cell_type": "code",
      "execution_count": 1,
      "metadata": {
        "colab": {
          "base_uri": "https://localhost:8080/"
        },
        "id": "11-05KxuHD7s",
        "outputId": "856e1dd5-bb06-4ce3-bf2d-082222f55aba"
      },
      "outputs": [],
      "source": [
        "from sklearn.datasets import load_boston\n",
        "from sklearn.model_selection import train_test_split\n",
        "import numpy as np\n",
        "\n",
        "boston = load_boston()\n",
        "y = boston.target\n",
        "X = boston.data\n",
        "\n",
        "X_train, X_test, y_train, y_test = train_test_split(X, y, test_size=0.33, random_state=42)\n"
      ]
    },
    {
      "cell_type": "markdown",
      "metadata": {
        "id": "9qSElz6BHR-E"
      },
      "source": [
        "\n",
        "# Import models from sklearn\n"
      ]
    },
    {
      "cell_type": "code",
      "execution_count": 2,
      "metadata": {
        "id": "g0I5cdVpHQZU"
      },
      "outputs": [],
      "source": [
        "from sklearn.ensemble import RandomForestRegressor, AdaBoostRegressor\n",
        "from sklearn.linear_model import LinearRegression\n",
        "from sklearn.tree import DecisionTreeRegressor"
      ]
    },
    {
      "cell_type": "markdown",
      "metadata": {
        "id": "_1c4lRPRHg0i"
      },
      "source": [
        "\n",
        "# Instantiate each of the models you imported\n"
      ]
    },
    {
      "cell_type": "code",
      "execution_count": 3,
      "metadata": {
        "id": "cZqhhRHhHiGJ"
      },
      "outputs": [],
      "source": [
        "tree_mod = DecisionTreeRegressor()\n",
        "rf_mod = RandomForestRegressor()\n",
        "ada_mod = AdaBoostRegressor()\n",
        "reg_mod = LinearRegression()"
      ]
    },
    {
      "cell_type": "markdown",
      "metadata": {
        "id": "sKz6WvdOHlTb"
      },
      "source": [
        "\n",
        "# Fit each of your models using the training data\n"
      ]
    },
    {
      "cell_type": "code",
      "execution_count": 4,
      "metadata": {
        "colab": {
          "base_uri": "https://localhost:8080/"
        },
        "id": "cIYkgyvCHmjb",
        "outputId": "68b6144c-1715-4a36-a035-045ce532e468"
      },
      "outputs": [
        {
          "data": {
            "text/plain": [
              "LinearRegression()"
            ]
          },
          "execution_count": 4,
          "metadata": {},
          "output_type": "execute_result"
        }
      ],
      "source": [
        "tree_mod.fit(X_train, y_train)\n",
        "rf_mod.fit(X_train,y_train)\n",
        "ada_mod.fit(X_train,y_train)\n",
        "reg_mod.fit(X_train,y_train)"
      ]
    },
    {
      "cell_type": "markdown",
      "metadata": {
        "id": "LV6rzaJgOrrH"
      },
      "source": [
        "\n",
        "# Fitting SVM to the Training set"
      ]
    },
    {
      "cell_type": "code",
      "execution_count": 5,
      "metadata": {
        "colab": {
          "base_uri": "https://localhost:8080/"
        },
        "id": "6w-7X24OOvho",
        "outputId": "0affca56-2c6f-4f65-f504-dec86f6a3d44"
      },
      "outputs": [
        {
          "data": {
            "text/plain": [
              "SVC(kernel='linear', random_state=0)"
            ]
          },
          "execution_count": 5,
          "metadata": {},
          "output_type": "execute_result"
        }
      ],
      "source": [
        "from sklearn.svm import SVC\n",
        "classifier = SVC(kernel = 'linear', random_state = 0)\n",
        "classifier.fit(X_train, y_train.astype('int'))"
      ]
    },
    {
      "cell_type": "markdown",
      "metadata": {
        "id": "qag7LpH-IGlD"
      },
      "source": [
        "\n",
        "# Predict on the test values for each model\n"
      ]
    },
    {
      "cell_type": "code",
      "execution_count": 6,
      "metadata": {
        "id": "aKe_9SjDIL3M"
      },
      "outputs": [],
      "source": [
        "preds_tree = tree_mod.predict(X_test) \n",
        "preds_rf  = rf_mod.predict(X_test)\n",
        "preds_ada = ada_mod.predict(X_test) \n",
        "preds_reg = reg_mod.predict(X_test)\n",
        "preds_cla = classifier.predict(X_test)"
      ]
    },
    {
      "cell_type": "markdown",
      "metadata": {
        "id": "JJQNAJn9IjAs"
      },
      "source": [
        "\n",
        "# Import the metrics from sklearn\n"
      ]
    },
    {
      "cell_type": "code",
      "execution_count": 7,
      "metadata": {
        "id": "uC8idKGgIjl0"
      },
      "outputs": [],
      "source": [
        "\n",
        "from sklearn.metrics import r2_score, mean_squared_error, mean_absolute_error\n"
      ]
    },
    {
      "cell_type": "markdown",
      "metadata": {
        "id": "u32_tLbEIlNM"
      },
      "source": [
        "# Calculate R square\n",
        "\n"
      ]
    },
    {
      "cell_type": "code",
      "execution_count": 9,
      "metadata": {
        "colab": {
          "base_uri": "https://localhost:8080/"
        },
        "id": "NwgCutm3Iqz7",
        "outputId": "f2d8c18b-3961-4afc-b310-85bd215cc857"
      },
      "outputs": [
        {
          "name": "stdout",
          "output_type": "stream",
          "text": [
            "0.7502150385896335\n",
            "0.7502150385896335\n"
          ]
        }
      ],
      "source": [
        "def r2(actual, preds):\n",
        "    \n",
        "    sse = np.sum((actual-preds)**2) # SSres\n",
        "    sst = np.sum((actual-np.mean(actual))**2) #SStot\n",
        "    return 1 - sse/sst\n",
        "\n",
        "# Check solution matches sklearn\n",
        "print(r2(y_test, preds_tree))\n",
        "print(r2_score(y_test, preds_tree))"
      ]
    },
    {
      "cell_type": "markdown",
      "metadata": {
        "id": "CFQra_NaJUnK"
      },
      "source": [
        "# Calculate MSE and MAE"
      ]
    },
    {
      "cell_type": "code",
      "execution_count": 10,
      "metadata": {
        "colab": {
          "base_uri": "https://localhost:8080/"
        },
        "id": "1JzIyjy_JQdj",
        "outputId": "3ee797f6-c2f9-4812-a6d5-b15e3c8a0600"
      },
      "outputs": [
        {
          "name": "stdout",
          "output_type": "stream",
          "text": [
            "18.903353293413176\n",
            "18.903353293413176\n"
          ]
        }
      ],
      "source": [
        "def mse(actual, preds):\n",
        "    \n",
        "    return np.sum((actual-preds)**2)/len(actual)\n",
        "\n",
        "# Check your solution matches sklearn\n",
        "print(mse(y_test, preds_tree))\n",
        "print(mean_squared_error(y_test, preds_tree))"
      ]
    },
    {
      "cell_type": "code",
      "execution_count": 11,
      "metadata": {
        "colab": {
          "base_uri": "https://localhost:8080/"
        },
        "id": "5ICwW3WZJZ6M",
        "outputId": "b987c167-b27a-426f-cd01-ce690c40e6ac"
      },
      "outputs": [
        {
          "name": "stdout",
          "output_type": "stream",
          "text": [
            "2.9856287425149706\n",
            "2.9856287425149706\n"
          ]
        }
      ],
      "source": [
        "def mae(actual, preds):\n",
        "    \n",
        "    return np.sum(np.abs(actual-preds))/len(actual)\n",
        "\n",
        "# Check your solution matches sklearn\n",
        "print(mae(y_test, preds_tree))\n",
        "print(mean_absolute_error(y_test, preds_tree))"
      ]
    },
    {
      "cell_type": "code",
      "execution_count": 12,
      "metadata": {
        "id": "gxgNyO3OJblU"
      },
      "outputs": [],
      "source": [
        "def print_metrics(y_true, preds):\n",
        "\n",
        "    print('Mean Squared Error: ', format(mean_squared_error(y_true, preds)))\n",
        "    print('Mean Absolute Error: ', format(mean_absolute_error(y_true, preds)))\n",
        "    print('R2 Score: ', format(r2_score(y_true, preds)))\n",
        "    print('\\n')"
      ]
    },
    {
      "cell_type": "markdown",
      "metadata": {
        "id": "ATGE91uUJiXc"
      },
      "source": [
        "# Print scores"
      ]
    },
    {
      "cell_type": "code",
      "execution_count": 13,
      "metadata": {
        "colab": {
          "base_uri": "https://localhost:8080/"
        },
        "id": "lUUri8dMJg9E",
        "outputId": "7a95b71d-e68d-4d44-b511-66fd0645d984"
      },
      "outputs": [
        {
          "name": "stdout",
          "output_type": "stream",
          "text": [
            "Mean Squared Error:  18.903353293413176\n",
            "Mean Absolute Error:  2.9856287425149706\n",
            "R2 Score:  0.7502150385896335\n",
            "\n",
            "\n",
            "Mean Squared Error:  10.578649508982037\n",
            "Mean Absolute Error:  2.1908502994011974\n",
            "R2 Score:  0.8602159353231997\n",
            "\n",
            "\n",
            "Mean Squared Error:  15.580053617190949\n",
            "Mean Absolute Error:  2.7200610854901064\n",
            "R2 Score:  0.7941284262566514\n",
            "\n",
            "\n",
            "Mean Squared Error:  20.72402343733974\n",
            "Mean Absolute Error:  3.1482557548168217\n",
            "R2 Score:  0.7261570836552478\n",
            "\n",
            "\n",
            "Mean Squared Error:  20.555149700598804\n",
            "Mean Absolute Error:  3.0508982035928143\n",
            "R2 Score:  0.7283885459339409\n",
            "\n",
            "\n"
          ]
        }
      ],
      "source": [
        "print_metrics(y_test, preds_tree)\n",
        "print_metrics(y_test, preds_rf)\n",
        "print_metrics(y_test, preds_ada)\n",
        "print_metrics(y_test, preds_reg)\n",
        "print_metrics(y_test, preds_cla)"
      ]
    }
  ],
  "metadata": {
    "colab": {
      "collapsed_sections": [],
      "name": "ML_0315_Regression & Classification.ipynb",
      "provenance": []
    },
    "kernelspec": {
      "display_name": "Python 3",
      "name": "python3"
    },
    "language_info": {
      "codemirror_mode": {
        "name": "ipython",
        "version": 3
      },
      "file_extension": ".py",
      "mimetype": "text/x-python",
      "name": "python",
      "nbconvert_exporter": "python",
      "pygments_lexer": "ipython3",
      "version": "3.8.5"
    }
  },
  "nbformat": 4,
  "nbformat_minor": 0
}
