{
  "nbformat": 4,
  "nbformat_minor": 0,
  "metadata": {
    "colab": {
      "name": "「Question_2.ipynb」的副本",
      "provenance": [],
      "collapsed_sections": []
    },
    "kernelspec": {
      "name": "python3",
      "display_name": "Python 3"
    },
    "language_info": {
      "name": "python"
    }
  },
  "cells": [
    {
      "cell_type": "markdown",
      "source": [
        "# Train the models"
      ],
      "metadata": {
        "id": "B3HDB_5rlpWq"
      }
    },
    {
      "cell_type": "code",
      "metadata": {
        "id": "jOzfh2JUJl26"
      },
      "source": [
        "# Import our libraries\n",
        "import pandas as pd\n",
        "import numpy as np\n",
        "from sklearn.feature_extraction.text import CountVectorizer\n",
        "from IPython.display import display # Allows the use of display() for DataFrames\n",
        "%matplotlib inline\n"
      ],
      "execution_count": null,
      "outputs": []
    },
    {
      "cell_type": "code",
      "metadata": {
        "id": "8LSUijCcOBTo"
      },
      "source": [
        "# Set a random seed\n",
        "import random\n",
        "random.seed(42) #請勿異動\n"
      ],
      "execution_count": null,
      "outputs": []
    },
    {
      "cell_type": "code",
      "metadata": {
        "id": "ilNP52KiOD2w",
        "colab": {
          "base_uri": "https://localhost:8080/",
          "height": 206
        },
        "outputId": "0a47b804-228c-4748-fdc5-7f86cd8548f7"
      },
      "source": [
        "# Load the dataset\n",
        "full_data = pd.read_csv('titanic_data.csv') #請務必使用CSV檔，勿轉為其他副檔名\n",
        "\n",
        "# Print the first few entries of the RMS Titanic data\n",
        "display(full_data.head())\n"
      ],
      "execution_count": null,
      "outputs": [
        {
          "output_type": "display_data",
          "data": {
            "text/plain": [
              "   PassengerId  Survived  Pclass  \\\n",
              "0            1         0       3   \n",
              "1            2         1       1   \n",
              "2            3         1       3   \n",
              "3            4         1       1   \n",
              "4            5         0       3   \n",
              "\n",
              "                                                Name     Sex   Age  SibSp  \\\n",
              "0                            Braund, Mr. Owen Harris    male  22.0      1   \n",
              "1  Cumings, Mrs. John Bradley (Florence Briggs Th...  female  38.0      1   \n",
              "2                             Heikkinen, Miss. Laina  female  26.0      0   \n",
              "3       Futrelle, Mrs. Jacques Heath (Lily May Peel)  female  35.0      1   \n",
              "4                           Allen, Mr. William Henry    male  35.0      0   \n",
              "\n",
              "   Parch            Ticket     Fare Cabin Embarked  \n",
              "0      0         A/5 21171   7.2500   NaN        S  \n",
              "1      0          PC 17599  71.2833   C85        C  \n",
              "2      0  STON/O2. 3101282   7.9250   NaN        S  \n",
              "3      0            113803  53.1000  C123        S  \n",
              "4      0            373450   8.0500   NaN        S  "
            ],
            "text/html": [
              "\n",
              "  <div id=\"df-9cdccc2c-c13c-4415-a67f-ada82539477b\">\n",
              "    <div class=\"colab-df-container\">\n",
              "      <div>\n",
              "<style scoped>\n",
              "    .dataframe tbody tr th:only-of-type {\n",
              "        vertical-align: middle;\n",
              "    }\n",
              "\n",
              "    .dataframe tbody tr th {\n",
              "        vertical-align: top;\n",
              "    }\n",
              "\n",
              "    .dataframe thead th {\n",
              "        text-align: right;\n",
              "    }\n",
              "</style>\n",
              "<table border=\"1\" class=\"dataframe\">\n",
              "  <thead>\n",
              "    <tr style=\"text-align: right;\">\n",
              "      <th></th>\n",
              "      <th>PassengerId</th>\n",
              "      <th>Survived</th>\n",
              "      <th>Pclass</th>\n",
              "      <th>Name</th>\n",
              "      <th>Sex</th>\n",
              "      <th>Age</th>\n",
              "      <th>SibSp</th>\n",
              "      <th>Parch</th>\n",
              "      <th>Ticket</th>\n",
              "      <th>Fare</th>\n",
              "      <th>Cabin</th>\n",
              "      <th>Embarked</th>\n",
              "    </tr>\n",
              "  </thead>\n",
              "  <tbody>\n",
              "    <tr>\n",
              "      <th>0</th>\n",
              "      <td>1</td>\n",
              "      <td>0</td>\n",
              "      <td>3</td>\n",
              "      <td>Braund, Mr. Owen Harris</td>\n",
              "      <td>male</td>\n",
              "      <td>22.0</td>\n",
              "      <td>1</td>\n",
              "      <td>0</td>\n",
              "      <td>A/5 21171</td>\n",
              "      <td>7.2500</td>\n",
              "      <td>NaN</td>\n",
              "      <td>S</td>\n",
              "    </tr>\n",
              "    <tr>\n",
              "      <th>1</th>\n",
              "      <td>2</td>\n",
              "      <td>1</td>\n",
              "      <td>1</td>\n",
              "      <td>Cumings, Mrs. John Bradley (Florence Briggs Th...</td>\n",
              "      <td>female</td>\n",
              "      <td>38.0</td>\n",
              "      <td>1</td>\n",
              "      <td>0</td>\n",
              "      <td>PC 17599</td>\n",
              "      <td>71.2833</td>\n",
              "      <td>C85</td>\n",
              "      <td>C</td>\n",
              "    </tr>\n",
              "    <tr>\n",
              "      <th>2</th>\n",
              "      <td>3</td>\n",
              "      <td>1</td>\n",
              "      <td>3</td>\n",
              "      <td>Heikkinen, Miss. Laina</td>\n",
              "      <td>female</td>\n",
              "      <td>26.0</td>\n",
              "      <td>0</td>\n",
              "      <td>0</td>\n",
              "      <td>STON/O2. 3101282</td>\n",
              "      <td>7.9250</td>\n",
              "      <td>NaN</td>\n",
              "      <td>S</td>\n",
              "    </tr>\n",
              "    <tr>\n",
              "      <th>3</th>\n",
              "      <td>4</td>\n",
              "      <td>1</td>\n",
              "      <td>1</td>\n",
              "      <td>Futrelle, Mrs. Jacques Heath (Lily May Peel)</td>\n",
              "      <td>female</td>\n",
              "      <td>35.0</td>\n",
              "      <td>1</td>\n",
              "      <td>0</td>\n",
              "      <td>113803</td>\n",
              "      <td>53.1000</td>\n",
              "      <td>C123</td>\n",
              "      <td>S</td>\n",
              "    </tr>\n",
              "    <tr>\n",
              "      <th>4</th>\n",
              "      <td>5</td>\n",
              "      <td>0</td>\n",
              "      <td>3</td>\n",
              "      <td>Allen, Mr. William Henry</td>\n",
              "      <td>male</td>\n",
              "      <td>35.0</td>\n",
              "      <td>0</td>\n",
              "      <td>0</td>\n",
              "      <td>373450</td>\n",
              "      <td>8.0500</td>\n",
              "      <td>NaN</td>\n",
              "      <td>S</td>\n",
              "    </tr>\n",
              "  </tbody>\n",
              "</table>\n",
              "</div>\n",
              "      <button class=\"colab-df-convert\" onclick=\"convertToInteractive('df-9cdccc2c-c13c-4415-a67f-ada82539477b')\"\n",
              "              title=\"Convert this dataframe to an interactive table.\"\n",
              "              style=\"display:none;\">\n",
              "        \n",
              "  <svg xmlns=\"http://www.w3.org/2000/svg\" height=\"24px\"viewBox=\"0 0 24 24\"\n",
              "       width=\"24px\">\n",
              "    <path d=\"M0 0h24v24H0V0z\" fill=\"none\"/>\n",
              "    <path d=\"M18.56 5.44l.94 2.06.94-2.06 2.06-.94-2.06-.94-.94-2.06-.94 2.06-2.06.94zm-11 1L8.5 8.5l.94-2.06 2.06-.94-2.06-.94L8.5 2.5l-.94 2.06-2.06.94zm10 10l.94 2.06.94-2.06 2.06-.94-2.06-.94-.94-2.06-.94 2.06-2.06.94z\"/><path d=\"M17.41 7.96l-1.37-1.37c-.4-.4-.92-.59-1.43-.59-.52 0-1.04.2-1.43.59L10.3 9.45l-7.72 7.72c-.78.78-.78 2.05 0 2.83L4 21.41c.39.39.9.59 1.41.59.51 0 1.02-.2 1.41-.59l7.78-7.78 2.81-2.81c.8-.78.8-2.07 0-2.86zM5.41 20L4 18.59l7.72-7.72 1.47 1.35L5.41 20z\"/>\n",
              "  </svg>\n",
              "      </button>\n",
              "      \n",
              "  <style>\n",
              "    .colab-df-container {\n",
              "      display:flex;\n",
              "      flex-wrap:wrap;\n",
              "      gap: 12px;\n",
              "    }\n",
              "\n",
              "    .colab-df-convert {\n",
              "      background-color: #E8F0FE;\n",
              "      border: none;\n",
              "      border-radius: 50%;\n",
              "      cursor: pointer;\n",
              "      display: none;\n",
              "      fill: #1967D2;\n",
              "      height: 32px;\n",
              "      padding: 0 0 0 0;\n",
              "      width: 32px;\n",
              "    }\n",
              "\n",
              "    .colab-df-convert:hover {\n",
              "      background-color: #E2EBFA;\n",
              "      box-shadow: 0px 1px 2px rgba(60, 64, 67, 0.3), 0px 1px 3px 1px rgba(60, 64, 67, 0.15);\n",
              "      fill: #174EA6;\n",
              "    }\n",
              "\n",
              "    [theme=dark] .colab-df-convert {\n",
              "      background-color: #3B4455;\n",
              "      fill: #D2E3FC;\n",
              "    }\n",
              "\n",
              "    [theme=dark] .colab-df-convert:hover {\n",
              "      background-color: #434B5C;\n",
              "      box-shadow: 0px 1px 3px 1px rgba(0, 0, 0, 0.15);\n",
              "      filter: drop-shadow(0px 1px 2px rgba(0, 0, 0, 0.3));\n",
              "      fill: #FFFFFF;\n",
              "    }\n",
              "  </style>\n",
              "\n",
              "      <script>\n",
              "        const buttonEl =\n",
              "          document.querySelector('#df-9cdccc2c-c13c-4415-a67f-ada82539477b button.colab-df-convert');\n",
              "        buttonEl.style.display =\n",
              "          google.colab.kernel.accessAllowed ? 'block' : 'none';\n",
              "\n",
              "        async function convertToInteractive(key) {\n",
              "          const element = document.querySelector('#df-9cdccc2c-c13c-4415-a67f-ada82539477b');\n",
              "          const dataTable =\n",
              "            await google.colab.kernel.invokeFunction('convertToInteractive',\n",
              "                                                     [key], {});\n",
              "          if (!dataTable) return;\n",
              "\n",
              "          const docLinkHtml = 'Like what you see? Visit the ' +\n",
              "            '<a target=\"_blank\" href=https://colab.research.google.com/notebooks/data_table.ipynb>data table notebook</a>'\n",
              "            + ' to learn more about interactive tables.';\n",
              "          element.innerHTML = '';\n",
              "          dataTable['output_type'] = 'display_data';\n",
              "          await google.colab.output.renderOutput(dataTable, element);\n",
              "          const docLink = document.createElement('div');\n",
              "          docLink.innerHTML = docLinkHtml;\n",
              "          element.appendChild(docLink);\n",
              "        }\n",
              "      </script>\n",
              "    </div>\n",
              "  </div>\n",
              "  "
            ]
          },
          "metadata": {}
        }
      ]
    },
    {
      "cell_type": "markdown",
      "metadata": {
        "id": "8gOV2hHbQzHr"
      },
      "source": [
        "**欄位敘述**\n",
        "\n",
        "1. Survival - Survival (0 = No; 1 = Yes). Not included in test.csv file.\n",
        "2. Pclass - Passenger Class (1 = 1st; 2 = 2nd; 3 = 3rd)\n",
        "3. Name - Name\n",
        "4. Sex - Sex\n",
        "5. Age - Age\n",
        "6. Sibsp - Number of Siblings/Spouses Aboard\n",
        "7. Parch - Number of Parents/Children Aboard\n",
        "8. Ticket - Ticket Number\n",
        "9. Fare - Passenger Fare\n",
        "10. Cabin - Cabin\n",
        "11. Embarked - Port of Embarkation (C = Cherbourg; Q = Queenstown; S = Southampton)"
      ]
    },
    {
      "cell_type": "code",
      "metadata": {
        "id": "kyq6HyWHOF02"
      },
      "source": [
        "# Store the 'Survived' feature in a new variable and remove it from the dataset\n",
        "outcomes = full_data['Survived'] #預測目標\n",
        "features_raw = full_data.drop('Survived', axis = 1)\n",
        "\n",
        "# Removing the names\n",
        "features_no_name = features_raw.drop(['Name'], axis=1)\n",
        "\n",
        "# One-hot encoding\n",
        "features = pd.get_dummies(features_no_name)\n",
        "features = features.fillna(0.0) #處理後的特徵值\n"
      ],
      "execution_count": null,
      "outputs": []
    },
    {
      "cell_type": "code",
      "metadata": {
        "id": "4YrwHz01GgiZ",
        "colab": {
          "base_uri": "https://localhost:8080/"
        },
        "outputId": "122a77d1-dd23-4af2-b130-3ef0e6f176b3"
      },
      "source": [
        "# TODO\n",
        "# 設定80%為training set\n",
        "from sklearn.model_selection import train_test_split\n",
        "X_train, X_test, y_train, y_test = train_test_split(features, outcomes, test_size=0.2, random_state=42) #請勿修改random state\n",
        "\n",
        "print(X_train.shape, y_train.shape)\n"
      ],
      "execution_count": null,
      "outputs": [
        {
          "output_type": "stream",
          "name": "stdout",
          "text": [
            "(712, 839) (712,)\n"
          ]
        }
      ]
    },
    {
      "cell_type": "code",
      "metadata": {
        "id": "or4QKbXHPN2a"
      },
      "source": [
        "# Import the classifier from sklearn\n",
        "from sklearn.tree import DecisionTreeClassifier\n",
        "from sklearn.naive_bayes import MultinomialNB\n",
        "from sklearn.ensemble import BaggingClassifier, RandomForestClassifier, AdaBoostClassifier\n",
        "from sklearn.svm import SVC\n"
      ],
      "execution_count": null,
      "outputs": []
    },
    {
      "cell_type": "code",
      "metadata": {
        "id": "_vkc8jVOHKQe"
      },
      "source": [
        "# Instantiate a number of our models\n",
        "dt_mod = DecisionTreeClassifier(random_state=42)\n",
        "naive_bayes = MultinomialNB()\n",
        "bag_mod = BaggingClassifier(n_estimators=200, random_state=42)\n",
        "rf_mod = RandomForestClassifier(n_estimators=200, random_state=42)\n",
        "ada_mod = AdaBoostClassifier(n_estimators=300, learning_rate=0.2, random_state=42)\n",
        "svm_mod = SVC(random_state=42)\n",
        "\n",
        "# 請勿異動上方參數\n"
      ],
      "execution_count": null,
      "outputs": []
    },
    {
      "cell_type": "code",
      "metadata": {
        "id": "DTYGfuoGHJtY",
        "colab": {
          "base_uri": "https://localhost:8080/"
        },
        "outputId": "e5eead37-1061-4620-b294-5b873c10ddc6"
      },
      "source": [
        "# TODO\n",
        "# 使用training set 進行 Fit linear model 配適線性模型\n",
        "# Fit each of the 6 models\n",
        "dt_mod.fit(X_train, y_train)\n",
        "naive_bayes.fit(X_train, y_train)\n",
        "bag_mod.fit(X_train, y_train)\n",
        "rf_mod.fit(X_train, y_train)\n",
        "ada_mod.fit(X_train, y_train)\n",
        "svm_mod.fit(X_train, y_train)\n"
      ],
      "execution_count": null,
      "outputs": [
        {
          "output_type": "execute_result",
          "data": {
            "text/plain": [
              "SVC(random_state=42)"
            ]
          },
          "metadata": {},
          "execution_count": 8
        }
      ]
    },
    {
      "cell_type": "markdown",
      "source": [
        "# Test the models"
      ],
      "metadata": {
        "id": "mzxvaDLgn7FV"
      }
    },
    {
      "cell_type": "code",
      "metadata": {
        "id": "nFOmPfCGHivH"
      },
      "source": [
        "# TODO\n",
        "# 使用test set進行預測\n",
        "# Make predictions using each of your models\n",
        "preds_dt = dt_mod.predict(X_test)\n",
        "preds_nb = naive_bayes.predict(X_test)\n",
        "preds_bag = bag_mod.predict(X_test)\n",
        "preds_rf = rf_mod.predict(X_test)\n",
        "preds_ada = ada_mod.predict(X_test)\n",
        "preds_svm = svm_mod.predict(X_test)\n"
      ],
      "execution_count": null,
      "outputs": []
    },
    {
      "cell_type": "markdown",
      "metadata": {
        "id": "uR_fVHgtiL76"
      },
      "source": [
        "請參考下方程式，完成accuracy, precision, recall, f1的定義\n",
        "\n",
        "* (preds==0).sum()\n",
        "* (preds==1).sum()\n",
        "* (actual==0).sum()\n",
        "* (actual==1).sum()\n",
        "* np.sum(preds == actual)/len(actual)\n",
        "* len(np.intersect1d(np.where(preds==0), np.where(actual==0)))\n",
        "* len(np.intersect1d(np.where(preds==0), np.where(actual==1)))\n",
        "* len(np.intersect1d(np.where(preds==1), np.where(actual==0)))\n",
        "* len(np.intersect1d(np.where(preds==1), np.where(actual==1)))\n"
      ]
    },
    {
      "cell_type": "code",
      "metadata": {
        "id": "tASuV-uRHyMy"
      },
      "source": [
        "# TODO\n",
        "def accuracy(actual, preds):\n",
        "  \n",
        "    return np.sum(preds == actual)/len(actual)\n"
      ],
      "execution_count": null,
      "outputs": []
    },
    {
      "cell_type": "code",
      "metadata": {
        "id": "mVG_lNeLHzr1"
      },
      "source": [
        "# TODO\n",
        "# 預測為陽性的資料中，真的為陽性的比例\n",
        "def precision(actual, preds):\n",
        "\n",
        "    tp = len(np.intersect1d(np.where(preds==1), np.where(actual==1)))\n",
        "    aa = (preds==1).sum()\n",
        "    return tp/aa\n"
      ],
      "execution_count": null,
      "outputs": []
    },
    {
      "cell_type": "code",
      "metadata": {
        "id": "nCGkGo_tH06Q"
      },
      "source": [
        "# TODO\n",
        "# 真的為陽性的資料中，被預測為陽性的比例\n",
        "def recall(actual, preds):\n",
        "\n",
        "    tp = len(np.intersect1d(np.where(preds==1), np.where(actual==1)))\n",
        "    bb = tp+len(np.intersect1d(np.where(preds==0), np.where(actual==1)))\n",
        "    return tp/bb\n"
      ],
      "execution_count": null,
      "outputs": []
    },
    {
      "cell_type": "code",
      "metadata": {
        "id": "6s4zsNLpH5AJ"
      },
      "source": [
        "# TODO\n",
        "# precision與recall的調和平均，可簡化為「2倍兩者乘積除以兩者之和」\n",
        "def f1(preds, actual):\n",
        "\n",
        "    tp = len(np.intersect1d(np.where(preds==1), np.where(actual==1)))\n",
        "    aa = (preds==1).sum()\n",
        "    bb = tp+len(np.intersect1d(np.where(preds==0), np.where(actual==1)))\n",
        "\n",
        "    prec = tp/aa\n",
        "    recall = tp/bb\n",
        "    \n",
        "    return 2*((prec*recall)/(prec+recall))\n"
      ],
      "execution_count": null,
      "outputs": []
    },
    {
      "cell_type": "code",
      "metadata": {
        "id": "GQi5TkHwIBWr"
      },
      "source": [
        "from sklearn.metrics import precision_score, recall_score, f1_score, accuracy_score\n",
        "\n",
        "def print_metrics(y_true, preds):\n",
        "\n",
        "   print('Accuracy score: ', format(accuracy(y_true, preds)))\n",
        "   print('True Accuracy: ', format(accuracy_score(y_true,preds)))\n",
        "   print('Precision score: ', format(precision(y_true, preds)))\n",
        "   print('True Precesion: ', format(precision_score(y_true,preds)))\n",
        "   print('Recall score: ', format(recall(y_true, preds)))\n",
        "   print('True Recall: ', format(recall_score(y_true,preds)))\n",
        "   print('F1 score: ', format(f1(y_true, preds)))\n",
        "   print('True F1: ', format(f1_score(y_true,preds)))\n",
        "   print('\\n')\n"
      ],
      "execution_count": null,
      "outputs": []
    },
    {
      "cell_type": "code",
      "metadata": {
        "id": "MFE0Vmd0ICuL",
        "colab": {
          "base_uri": "https://localhost:8080/"
        },
        "outputId": "c3bac9aa-c0a6-4b7d-c538-4ae48d908780"
      },
      "source": [
        "# TODO\n",
        "# Print scores\n",
        "print_metrics(y_test, preds_dt)\n",
        "print_metrics(y_test, preds_nb)\n",
        "print_metrics(y_test, preds_bag)\n",
        "print_metrics(y_test, preds_rf)\n",
        "print_metrics(y_test, preds_ada)\n",
        "print_metrics(y_test, preds_svm)\n",
        "\n"
      ],
      "execution_count": null,
      "outputs": [
        {
          "output_type": "stream",
          "name": "stdout",
          "text": [
            "Accuracy score:  0.8156424581005587\n",
            "True Accuracy:  0.8156424581005587\n",
            "Precision score:  0.8059701492537313\n",
            "True Precesion:  0.8059701492537313\n",
            "Recall score:  0.7297297297297297\n",
            "True Recall:  0.7297297297297297\n",
            "F1 score:  0.7659574468085106\n",
            "True F1:  0.7659574468085106\n",
            "\n",
            "\n",
            "Accuracy score:  0.6927374301675978\n",
            "True Accuracy:  0.6927374301675978\n",
            "Precision score:  0.6461538461538462\n",
            "True Precesion:  0.6461538461538462\n",
            "Recall score:  0.5675675675675675\n",
            "True Recall:  0.5675675675675675\n",
            "F1 score:  0.6043165467625901\n",
            "True F1:  0.6043165467625901\n",
            "\n",
            "\n",
            "Accuracy score:  0.8100558659217877\n",
            "True Accuracy:  0.8100558659217877\n",
            "Precision score:  0.8225806451612904\n",
            "True Precesion:  0.8225806451612904\n",
            "Recall score:  0.6891891891891891\n",
            "True Recall:  0.6891891891891891\n",
            "F1 score:  0.75\n",
            "True F1:  0.75\n",
            "\n",
            "\n",
            "Accuracy score:  0.8212290502793296\n",
            "True Accuracy:  0.8212290502793296\n",
            "Precision score:  0.85\n",
            "True Precesion:  0.85\n",
            "Recall score:  0.6891891891891891\n",
            "True Recall:  0.6891891891891891\n",
            "F1 score:  0.7611940298507462\n",
            "True F1:  0.7611940298507462\n",
            "\n",
            "\n",
            "Accuracy score:  0.8156424581005587\n",
            "True Accuracy:  0.8156424581005587\n",
            "Precision score:  0.8253968253968254\n",
            "True Precesion:  0.8253968253968254\n",
            "Recall score:  0.7027027027027027\n",
            "True Recall:  0.7027027027027027\n",
            "F1 score:  0.7591240875912408\n",
            "True F1:  0.7591240875912408\n",
            "\n",
            "\n",
            "Accuracy score:  0.5977653631284916\n",
            "True Accuracy:  0.5977653631284916\n",
            "Precision score:  0.6666666666666666\n",
            "True Precesion:  0.6666666666666666\n",
            "Recall score:  0.05405405405405406\n",
            "True Recall:  0.05405405405405406\n",
            "F1 score:  0.1\n",
            "True F1:  0.1\n",
            "\n",
            "\n"
          ]
        }
      ]
    }
  ]
}