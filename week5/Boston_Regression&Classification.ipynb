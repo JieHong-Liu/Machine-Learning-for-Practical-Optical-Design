{
  "nbformat": 4,
  "nbformat_minor": 0,
  "metadata": {
    "colab": {
      "name": "ML_0315_Regression & Classification.ipynb",
      "provenance": [],
      "collapsed_sections": []
    },
    "kernelspec": {
      "name": "python3",
      "display_name": "Python 3"
    },
    "language_info": {
      "name": "python"
    }
  },
  "cells": [
    {
      "cell_type": "code",
      "execution_count": 1,
      "metadata": {
        "colab": {
          "base_uri": "https://localhost:8080/"
        },
        "id": "11-05KxuHD7s",
        "outputId": "93427c85-74c5-4b63-879f-8179958bfae2"
      },
      "outputs": [
        {
          "output_type": "stream",
          "name": "stderr",
          "text": [
            "/usr/local/lib/python3.7/dist-packages/sklearn/utils/deprecation.py:87: FutureWarning: Function load_boston is deprecated; `load_boston` is deprecated in 1.0 and will be removed in 1.2.\n",
            "\n",
            "    The Boston housing prices dataset has an ethical problem. You can refer to\n",
            "    the documentation of this function for further details.\n",
            "\n",
            "    The scikit-learn maintainers therefore strongly discourage the use of this\n",
            "    dataset unless the purpose of the code is to study and educate about\n",
            "    ethical issues in data science and machine learning.\n",
            "\n",
            "    In this special case, you can fetch the dataset from the original\n",
            "    source::\n",
            "\n",
            "        import pandas as pd\n",
            "        import numpy as np\n",
            "\n",
            "\n",
            "        data_url = \"http://lib.stat.cmu.edu/datasets/boston\"\n",
            "        raw_df = pd.read_csv(data_url, sep=\"\\s+\", skiprows=22, header=None)\n",
            "        data = np.hstack([raw_df.values[::2, :], raw_df.values[1::2, :2]])\n",
            "        target = raw_df.values[1::2, 2]\n",
            "\n",
            "    Alternative datasets include the California housing dataset (i.e.\n",
            "    :func:`~sklearn.datasets.fetch_california_housing`) and the Ames housing\n",
            "    dataset. You can load the datasets as follows::\n",
            "\n",
            "        from sklearn.datasets import fetch_california_housing\n",
            "        housing = fetch_california_housing()\n",
            "\n",
            "    for the California housing dataset and::\n",
            "\n",
            "        from sklearn.datasets import fetch_openml\n",
            "        housing = fetch_openml(name=\"house_prices\", as_frame=True)\n",
            "\n",
            "    for the Ames housing dataset.\n",
            "    \n",
            "  warnings.warn(msg, category=FutureWarning)\n"
          ]
        }
      ],
      "source": [
        "from sklearn.datasets import load_boston\n",
        "from sklearn.model_selection import train_test_split\n",
        "import numpy as np\n",
        "\n",
        "boston = load_boston()\n",
        "y = boston.target\n",
        "X = boston.data\n",
        "\n",
        "X_train, X_test, y_train, y_test = train_test_split(X, y, test_size=0.33, random_state=42)\n"
      ]
    },
    {
      "cell_type": "markdown",
      "source": [
        "\n",
        "# Import models from sklearn\n"
      ],
      "metadata": {
        "id": "9qSElz6BHR-E"
      }
    },
    {
      "cell_type": "code",
      "source": [
        "from sklearn.ensemble import RandomForestRegressor, AdaBoostRegressor\n",
        "from sklearn.linear_model import LinearRegression\n",
        "from sklearn.tree import DecisionTreeRegressor"
      ],
      "metadata": {
        "id": "g0I5cdVpHQZU"
      },
      "execution_count": 2,
      "outputs": []
    },
    {
      "cell_type": "markdown",
      "source": [
        "\n",
        "# Instantiate each of the models you imported\n"
      ],
      "metadata": {
        "id": "_1c4lRPRHg0i"
      }
    },
    {
      "cell_type": "code",
      "source": [
        "tree_mod = DecisionTreeRegressor()\n",
        "rf_mod = RandomForestRegressor()\n",
        "ada_mod = AdaBoostRegressor()\n",
        "reg_mod = LinearRegression()"
      ],
      "metadata": {
        "id": "cZqhhRHhHiGJ"
      },
      "execution_count": 3,
      "outputs": []
    },
    {
      "cell_type": "markdown",
      "source": [
        "\n",
        "# Fit each of your models using the training data\n"
      ],
      "metadata": {
        "id": "sKz6WvdOHlTb"
      }
    },
    {
      "cell_type": "code",
      "source": [
        "tree_mod.fit(X_train, y_train)\n",
        "rf_mod.fit(X_train,y_train)\n",
        "ada_mod.fit(X_train,y_train)\n",
        "reg_mod.fit(X_train,y_train)"
      ],
      "metadata": {
        "colab": {
          "base_uri": "https://localhost:8080/"
        },
        "id": "cIYkgyvCHmjb",
        "outputId": "17881ce9-63a3-47da-dd85-065ef4612326"
      },
      "execution_count": 4,
      "outputs": [
        {
          "output_type": "execute_result",
          "data": {
            "text/plain": [
              "LinearRegression()"
            ]
          },
          "metadata": {},
          "execution_count": 4
        }
      ]
    },
    {
      "cell_type": "markdown",
      "source": [
        "\n",
        "# Predict on the test values for each model\n"
      ],
      "metadata": {
        "id": "qag7LpH-IGlD"
      }
    },
    {
      "cell_type": "code",
      "source": [
        "preds_tree = tree_mod.predict(X_test) \n",
        "preds_rf  = rf_mod.predict(X_test)\n",
        "preds_ada = ada_mod.predict(X_test) \n",
        "preds_reg = reg_mod.predict(X_test)"
      ],
      "metadata": {
        "id": "aKe_9SjDIL3M"
      },
      "execution_count": 5,
      "outputs": []
    },
    {
      "cell_type": "markdown",
      "source": [
        "\n",
        "# Import the metrics from sklearn\n"
      ],
      "metadata": {
        "id": "JJQNAJn9IjAs"
      }
    },
    {
      "cell_type": "code",
      "source": [
        "\n",
        "from sklearn.metrics import r2_score, mean_squared_error, mean_absolute_error\n"
      ],
      "metadata": {
        "id": "uC8idKGgIjl0"
      },
      "execution_count": 6,
      "outputs": []
    },
    {
      "cell_type": "markdown",
      "source": [
        "#Calculate R square\n",
        "\n"
      ],
      "metadata": {
        "id": "u32_tLbEIlNM"
      }
    },
    {
      "cell_type": "code",
      "source": [
        "def r2(actual, preds):\n",
        "    \n",
        "    sse = np.sum((actual-preds)**2) # SSres\n",
        "    sst = np.sum((actual-np.mean(actual))**2) #SStot\n",
        "    return 1 - sse/sst\n",
        "\n",
        "# Check solution matches sklearn\n",
        "print(r2(y_test, preds_tree))\n",
        "print(r2_score(y_test, preds_tree))"
      ],
      "metadata": {
        "colab": {
          "base_uri": "https://localhost:8080/"
        },
        "id": "NwgCutm3Iqz7",
        "outputId": "62548def-18be-42a2-f8eb-67d50cc75c31"
      },
      "execution_count": 7,
      "outputs": [
        {
          "output_type": "stream",
          "name": "stdout",
          "text": [
            "0.7618352623033003\n",
            "0.7618352623033003\n"
          ]
        }
      ]
    },
    {
      "cell_type": "markdown",
      "source": [
        "#Calculate MSE and MAE"
      ],
      "metadata": {
        "id": "CFQra_NaJUnK"
      }
    },
    {
      "cell_type": "code",
      "source": [
        "def mse(actual, preds):\n",
        "    \n",
        "    return np.sum((actual-preds)**2)/len(actual)\n",
        "\n",
        "# Check your solution matches sklearn\n",
        "print(mse(y_test, preds_tree))\n",
        "print(mean_squared_error(y_test, preds_tree))"
      ],
      "metadata": {
        "colab": {
          "base_uri": "https://localhost:8080/"
        },
        "id": "1JzIyjy_JQdj",
        "outputId": "14e531b1-f3b0-4d46-cc31-f9858cee8878"
      },
      "execution_count": 8,
      "outputs": [
        {
          "output_type": "stream",
          "name": "stdout",
          "text": [
            "18.023952095808383\n",
            "18.023952095808383\n"
          ]
        }
      ]
    },
    {
      "cell_type": "code",
      "source": [
        "def mae(actual, preds):\n",
        "    \n",
        "    return np.sum(np.abs(actual-preds))/len(actual)\n",
        "\n",
        "# Check your solution matches sklearn\n",
        "print(mae(y_test, preds_tree))\n",
        "print(mean_absolute_error(y_test, preds_tree))"
      ],
      "metadata": {
        "colab": {
          "base_uri": "https://localhost:8080/"
        },
        "id": "5ICwW3WZJZ6M",
        "outputId": "d6592595-08e5-46fb-d3d4-7e1835db49a0"
      },
      "execution_count": 9,
      "outputs": [
        {
          "output_type": "stream",
          "name": "stdout",
          "text": [
            "2.9149700598802397\n",
            "2.9149700598802397\n"
          ]
        }
      ]
    },
    {
      "cell_type": "code",
      "source": [
        "def print_metrics(y_true, preds):\n",
        "\n",
        "    print('Mean Squared Error: ', format(mean_squared_error(y_true, preds)))\n",
        "    print('Mean Absolute Error: ', format(mean_absolute_error(y_true, preds)))\n",
        "    print('R2 Score: ', format(r2_score(y_true, preds)))\n",
        "    print('\\n')"
      ],
      "metadata": {
        "id": "gxgNyO3OJblU"
      },
      "execution_count": 10,
      "outputs": []
    },
    {
      "cell_type": "markdown",
      "source": [
        "# Print scores"
      ],
      "metadata": {
        "id": "ATGE91uUJiXc"
      }
    },
    {
      "cell_type": "code",
      "source": [
        "print_metrics(y_test, preds_tree)\n",
        "print_metrics(y_test, preds_rf)\n",
        "print_metrics(y_test, preds_ada)\n",
        "print_metrics(y_test, preds_reg)"
      ],
      "metadata": {
        "colab": {
          "base_uri": "https://localhost:8080/"
        },
        "id": "lUUri8dMJg9E",
        "outputId": "8d4c5316-69d0-4a8d-de2d-f883ede94344"
      },
      "execution_count": 12,
      "outputs": [
        {
          "output_type": "stream",
          "name": "stdout",
          "text": [
            "Mean Squared Error:  18.023952095808383\n",
            "Mean Absolute Error:  2.9149700598802397\n",
            "R2 Score:  0.7618352623033003\n",
            "\n",
            "\n",
            "Mean Squared Error:  10.136269221556885\n",
            "Mean Absolute Error:  2.148011976047904\n",
            "R2 Score:  0.8660614560256934\n",
            "\n",
            "\n",
            "Mean Squared Error:  15.895361245078378\n",
            "Mean Absolute Error:  2.7355757128763036\n",
            "R2 Score:  0.7899620171311498\n",
            "\n",
            "\n",
            "Mean Squared Error:  20.724023437339717\n",
            "Mean Absolute Error:  3.148255754816822\n",
            "R2 Score:  0.7261570836552481\n",
            "\n",
            "\n"
          ]
        }
      ]
    }
  ]
}