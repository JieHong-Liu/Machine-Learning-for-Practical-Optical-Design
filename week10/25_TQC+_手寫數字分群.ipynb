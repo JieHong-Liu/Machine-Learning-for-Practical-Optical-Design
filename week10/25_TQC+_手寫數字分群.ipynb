{
  "cells": [
    {
      "cell_type": "markdown",
      "metadata": {
        "id": "1golr3fu9Clk"
      },
      "source": [
        "# Import library and dstaset"
      ]
    },
    {
      "cell_type": "code",
      "execution_count": 7,
      "metadata": {
        "id": "AnGCaflYii2M"
      },
      "outputs": [],
      "source": [
        "import numpy as np\n",
        "from sklearn.datasets import load_digits\n",
        "\n",
        "# 載入手寫數字資料集\n",
        "(X_digits, y_digits) = load_digits(return_X_y=True)\n",
        "\n",
        "seed = 0\n"
      ]
    },
    {
      "cell_type": "markdown",
      "metadata": {
        "id": "4Jbf-gdg9NF-"
      },
      "source": [
        "# Data Preprocessing"
      ]
    },
    {
      "cell_type": "code",
      "execution_count": 8,
      "metadata": {
        "id": "W9-zLJGfinmh"
      },
      "outputs": [],
      "source": [
        "# 特徵標準化(scale/StandardScaler)\n",
        "from sklearn.preprocessing import StandardScaler\n",
        "from sklearn.preprocessing import scale\n",
        "# TODO\n",
        "sc = StandardScaler()\n",
        "X_digits = sc.fit_transform(X_digits)\n"
      ]
    },
    {
      "cell_type": "code",
      "execution_count": 9,
      "metadata": {
        "colab": {
          "base_uri": "https://localhost:8080/"
        },
        "id": "6JoTggbgFTBm",
        "outputId": "6cdd2e03-e44c-42d8-fabb-8e8bb8e4c99a"
      },
      "outputs": [
        {
          "name": "stdout",
          "output_type": "stream",
          "text": [
            "(1797, 64)\n",
            "(1797,)\n"
          ]
        }
      ],
      "source": [
        "print(X_digits.shape) # 64 means 8*8\n",
        "print(y_digits.shape)\n"
      ]
    },
    {
      "cell_type": "code",
      "execution_count": 10,
      "metadata": {
        "id": "gY0ByB8jirOJ"
      },
      "outputs": [],
      "source": [
        "# 取出資料集的數字類別數\n",
        "n_digits = 10\n"
      ]
    },
    {
      "cell_type": "markdown",
      "metadata": {
        "id": "9DeNnAm19e28"
      },
      "source": [
        "# K-Means"
      ]
    },
    {
      "cell_type": "markdown",
      "metadata": {
        "id": "gEt800Ud_Caz"
      },
      "source": [
        "1. 使用原始資料\n",
        "> * kmean1: init='k-means++', n_clusters=n_digits, n_init=10, random_state=seed\n",
        "> * kmean2: init='random', n_clusters=n_digits, n_init=10, random_state=seed\n",
        "> * kmean3: init=pca.components_, n_clusters=n_digits, n_init=1, random_state=seed\n",
        "> > * pca: n_components=n_digits, random_state=seed\n",
        "\n",
        "\n",
        "2. 使用PCA降維\n",
        "> * kmean4: init='k-means++', n_clusters=n_digits, n_init=10, random_state=seed\n",
        "> > * pca: n_components=2, random_state=seed\n"
      ]
    },
    {
      "cell_type": "code",
      "execution_count": 14,
      "metadata": {
        "id": "TMF4SfCxiudJ"
      },
      "outputs": [],
      "source": [
        "from sklearn.cluster import KMeans\n",
        "from sklearn.decomposition import PCA\n",
        "# TODO\n",
        "\n",
        "pca = PCA(n_components=n_digits , random_state= seed)\n",
        "pca.fit(X_digits)\n",
        "\n",
        "pca_2 = PCA(n_components = 2, random_state = seed)\n",
        "X_digits_pca = pca_2.fit_transform(X_digits)\n",
        "\n",
        "kmean1 = KMeans(init='k-means++', n_clusters = n_digits , n_init = 10 , random_state = seed).fit(X_digits)\n",
        "kmean2 = KMeans(init='random', n_clusters = n_digits , n_init = 10 , random_state = seed).fit(X_digits)\n",
        "kmean3 = KMeans(init=pca.components_, n_clusters = n_digits , n_init = 1 , random_state = seed).fit(X_digits)\n",
        "kmean4 = KMeans(init='k-means++', n_clusters = n_digits , n_init = 10 , random_state = seed).fit(X_digits_pca) # since this line has already been pca.\n"
      ]
    },
    {
      "cell_type": "code",
      "execution_count": 15,
      "metadata": {
        "colab": {
          "base_uri": "https://localhost:8080/"
        },
        "id": "EItfUxfli1si",
        "outputId": "9ffaeee0-44a8-44f0-c972-08447b272936"
      },
      "outputs": [
        {
          "name": "stdout",
          "output_type": "stream",
          "text": [
            "0.14554769145333135 0.19532554257095158\n",
            "0.14481194547137966 0.2815804117974402\n",
            "0.1387637399182515 0.10851419031719532\n",
            "0.3782013182098298 0.1441291040623261\n"
          ]
        }
      ],
      "source": [
        "# 分別計算上述K-Means模型的分類準確率(accuracy)\n",
        "from sklearn.metrics import accuracy_score\n",
        "from sklearn.metrics import silhouette_score\n",
        "# TODO\n",
        "\n",
        "print(silhouette_score(X_digits, kmean1.labels_), accuracy_score(y_digits, kmean1.labels_))\n",
        "print(silhouette_score(X_digits, kmean2.labels_), accuracy_score(y_digits, kmean2.labels_))\n",
        "print(silhouette_score(X_digits, kmean3.labels_), accuracy_score(y_digits, kmean3.labels_))\n",
        "print(silhouette_score(X_digits_pca, kmean4.labels_), accuracy_score(y_digits, kmean4.labels_))\n"
      ]
    },
    {
      "cell_type": "code",
      "execution_count": null,
      "metadata": {
        "id": "I2NX6Cxnu65A"
      },
      "outputs": [],
      "source": []
    }
  ],
  "metadata": {
    "colab": {
      "collapsed_sections": [],
      "name": "25_TQC+_手寫數字分群.ipynb",
      "provenance": []
    },
    "interpreter": {
      "hash": "1693785c71ddcb6446b0fa3287d2fae148c0f69db7931320ddabb086c18e7123"
    },
    "kernelspec": {
      "display_name": "Python 3.8.3 ('base')",
      "language": "python",
      "name": "python3"
    },
    "language_info": {
      "codemirror_mode": {
        "name": "ipython",
        "version": 3
      },
      "file_extension": ".py",
      "mimetype": "text/x-python",
      "name": "python",
      "nbconvert_exporter": "python",
      "pygments_lexer": "ipython3",
      "version": "3.8.3"
    }
  },
  "nbformat": 4,
  "nbformat_minor": 0
}
