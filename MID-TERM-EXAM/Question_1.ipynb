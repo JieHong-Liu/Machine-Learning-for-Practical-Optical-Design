{
  "nbformat": 4,
  "nbformat_minor": 0,
  "metadata": {
    "colab": {
      "name": "「Question_1.ipynb」的副本",
      "provenance": [],
      "collapsed_sections": []
    },
    "kernelspec": {
      "name": "python3",
      "display_name": "Python 3"
    }
  },
  "cells": [
    {
      "cell_type": "markdown",
      "source": [
        "# Train the model"
      ],
      "metadata": {
        "id": "zzV_YgRcbDJx"
      }
    },
    {
      "cell_type": "code",
      "metadata": {
        "id": "XoRgMPlyqQbh"
      },
      "source": [
        "import pandas as pd\n",
        "import numpy as np\n"
      ],
      "execution_count": null,
      "outputs": []
    },
    {
      "cell_type": "code",
      "metadata": {
        "id": "4nmk-i7Xry6P",
        "outputId": "07e925e6-f220-4bf1-c7ce-1360ecee4e3a",
        "colab": {
          "base_uri": "https://localhost:8080/",
          "height": 895
        }
      },
      "source": [
        "from sklearn.datasets import load_boston\n",
        "boston = load_boston()\n",
        "df = pd.DataFrame(boston.data.T, ['CRIM', 'ZN', 'INDUS', 'CHAS', 'NOX', 'RM', 'AGE', 'DIS', 'RAD', 'TAX', 'PTRATIO', 'B', 'LSTAT']).T #有13個feature\n",
        "df.head()\n"
      ],
      "execution_count": null,
      "outputs": [
        {
          "output_type": "stream",
          "name": "stderr",
          "text": [
            "/usr/local/lib/python3.7/dist-packages/sklearn/utils/deprecation.py:87: FutureWarning: Function load_boston is deprecated; `load_boston` is deprecated in 1.0 and will be removed in 1.2.\n",
            "\n",
            "    The Boston housing prices dataset has an ethical problem. You can refer to\n",
            "    the documentation of this function for further details.\n",
            "\n",
            "    The scikit-learn maintainers therefore strongly discourage the use of this\n",
            "    dataset unless the purpose of the code is to study and educate about\n",
            "    ethical issues in data science and machine learning.\n",
            "\n",
            "    In this special case, you can fetch the dataset from the original\n",
            "    source::\n",
            "\n",
            "        import pandas as pd\n",
            "        import numpy as np\n",
            "\n",
            "\n",
            "        data_url = \"http://lib.stat.cmu.edu/datasets/boston\"\n",
            "        raw_df = pd.read_csv(data_url, sep=\"\\s+\", skiprows=22, header=None)\n",
            "        data = np.hstack([raw_df.values[::2, :], raw_df.values[1::2, :2]])\n",
            "        target = raw_df.values[1::2, 2]\n",
            "\n",
            "    Alternative datasets include the California housing dataset (i.e.\n",
            "    :func:`~sklearn.datasets.fetch_california_housing`) and the Ames housing\n",
            "    dataset. You can load the datasets as follows::\n",
            "\n",
            "        from sklearn.datasets import fetch_california_housing\n",
            "        housing = fetch_california_housing()\n",
            "\n",
            "    for the California housing dataset and::\n",
            "\n",
            "        from sklearn.datasets import fetch_openml\n",
            "        housing = fetch_openml(name=\"house_prices\", as_frame=True)\n",
            "\n",
            "    for the Ames housing dataset.\n",
            "    \n",
            "  warnings.warn(msg, category=FutureWarning)\n"
          ]
        },
        {
          "output_type": "execute_result",
          "data": {
            "text/plain": [
              "      CRIM    ZN  INDUS  CHAS    NOX     RM   AGE     DIS  RAD    TAX  \\\n",
              "0  0.00632  18.0   2.31   0.0  0.538  6.575  65.2  4.0900  1.0  296.0   \n",
              "1  0.02731   0.0   7.07   0.0  0.469  6.421  78.9  4.9671  2.0  242.0   \n",
              "2  0.02729   0.0   7.07   0.0  0.469  7.185  61.1  4.9671  2.0  242.0   \n",
              "3  0.03237   0.0   2.18   0.0  0.458  6.998  45.8  6.0622  3.0  222.0   \n",
              "4  0.06905   0.0   2.18   0.0  0.458  7.147  54.2  6.0622  3.0  222.0   \n",
              "\n",
              "   PTRATIO       B  LSTAT  \n",
              "0     15.3  396.90   4.98  \n",
              "1     17.8  396.90   9.14  \n",
              "2     17.8  392.83   4.03  \n",
              "3     18.7  394.63   2.94  \n",
              "4     18.7  396.90   5.33  "
            ],
            "text/html": [
              "\n",
              "  <div id=\"df-6a6b5cfa-1692-48db-bdfc-01db2d307b09\">\n",
              "    <div class=\"colab-df-container\">\n",
              "      <div>\n",
              "<style scoped>\n",
              "    .dataframe tbody tr th:only-of-type {\n",
              "        vertical-align: middle;\n",
              "    }\n",
              "\n",
              "    .dataframe tbody tr th {\n",
              "        vertical-align: top;\n",
              "    }\n",
              "\n",
              "    .dataframe thead th {\n",
              "        text-align: right;\n",
              "    }\n",
              "</style>\n",
              "<table border=\"1\" class=\"dataframe\">\n",
              "  <thead>\n",
              "    <tr style=\"text-align: right;\">\n",
              "      <th></th>\n",
              "      <th>CRIM</th>\n",
              "      <th>ZN</th>\n",
              "      <th>INDUS</th>\n",
              "      <th>CHAS</th>\n",
              "      <th>NOX</th>\n",
              "      <th>RM</th>\n",
              "      <th>AGE</th>\n",
              "      <th>DIS</th>\n",
              "      <th>RAD</th>\n",
              "      <th>TAX</th>\n",
              "      <th>PTRATIO</th>\n",
              "      <th>B</th>\n",
              "      <th>LSTAT</th>\n",
              "    </tr>\n",
              "  </thead>\n",
              "  <tbody>\n",
              "    <tr>\n",
              "      <th>0</th>\n",
              "      <td>0.00632</td>\n",
              "      <td>18.0</td>\n",
              "      <td>2.31</td>\n",
              "      <td>0.0</td>\n",
              "      <td>0.538</td>\n",
              "      <td>6.575</td>\n",
              "      <td>65.2</td>\n",
              "      <td>4.0900</td>\n",
              "      <td>1.0</td>\n",
              "      <td>296.0</td>\n",
              "      <td>15.3</td>\n",
              "      <td>396.90</td>\n",
              "      <td>4.98</td>\n",
              "    </tr>\n",
              "    <tr>\n",
              "      <th>1</th>\n",
              "      <td>0.02731</td>\n",
              "      <td>0.0</td>\n",
              "      <td>7.07</td>\n",
              "      <td>0.0</td>\n",
              "      <td>0.469</td>\n",
              "      <td>6.421</td>\n",
              "      <td>78.9</td>\n",
              "      <td>4.9671</td>\n",
              "      <td>2.0</td>\n",
              "      <td>242.0</td>\n",
              "      <td>17.8</td>\n",
              "      <td>396.90</td>\n",
              "      <td>9.14</td>\n",
              "    </tr>\n",
              "    <tr>\n",
              "      <th>2</th>\n",
              "      <td>0.02729</td>\n",
              "      <td>0.0</td>\n",
              "      <td>7.07</td>\n",
              "      <td>0.0</td>\n",
              "      <td>0.469</td>\n",
              "      <td>7.185</td>\n",
              "      <td>61.1</td>\n",
              "      <td>4.9671</td>\n",
              "      <td>2.0</td>\n",
              "      <td>242.0</td>\n",
              "      <td>17.8</td>\n",
              "      <td>392.83</td>\n",
              "      <td>4.03</td>\n",
              "    </tr>\n",
              "    <tr>\n",
              "      <th>3</th>\n",
              "      <td>0.03237</td>\n",
              "      <td>0.0</td>\n",
              "      <td>2.18</td>\n",
              "      <td>0.0</td>\n",
              "      <td>0.458</td>\n",
              "      <td>6.998</td>\n",
              "      <td>45.8</td>\n",
              "      <td>6.0622</td>\n",
              "      <td>3.0</td>\n",
              "      <td>222.0</td>\n",
              "      <td>18.7</td>\n",
              "      <td>394.63</td>\n",
              "      <td>2.94</td>\n",
              "    </tr>\n",
              "    <tr>\n",
              "      <th>4</th>\n",
              "      <td>0.06905</td>\n",
              "      <td>0.0</td>\n",
              "      <td>2.18</td>\n",
              "      <td>0.0</td>\n",
              "      <td>0.458</td>\n",
              "      <td>7.147</td>\n",
              "      <td>54.2</td>\n",
              "      <td>6.0622</td>\n",
              "      <td>3.0</td>\n",
              "      <td>222.0</td>\n",
              "      <td>18.7</td>\n",
              "      <td>396.90</td>\n",
              "      <td>5.33</td>\n",
              "    </tr>\n",
              "  </tbody>\n",
              "</table>\n",
              "</div>\n",
              "      <button class=\"colab-df-convert\" onclick=\"convertToInteractive('df-6a6b5cfa-1692-48db-bdfc-01db2d307b09')\"\n",
              "              title=\"Convert this dataframe to an interactive table.\"\n",
              "              style=\"display:none;\">\n",
              "        \n",
              "  <svg xmlns=\"http://www.w3.org/2000/svg\" height=\"24px\"viewBox=\"0 0 24 24\"\n",
              "       width=\"24px\">\n",
              "    <path d=\"M0 0h24v24H0V0z\" fill=\"none\"/>\n",
              "    <path d=\"M18.56 5.44l.94 2.06.94-2.06 2.06-.94-2.06-.94-.94-2.06-.94 2.06-2.06.94zm-11 1L8.5 8.5l.94-2.06 2.06-.94-2.06-.94L8.5 2.5l-.94 2.06-2.06.94zm10 10l.94 2.06.94-2.06 2.06-.94-2.06-.94-.94-2.06-.94 2.06-2.06.94z\"/><path d=\"M17.41 7.96l-1.37-1.37c-.4-.4-.92-.59-1.43-.59-.52 0-1.04.2-1.43.59L10.3 9.45l-7.72 7.72c-.78.78-.78 2.05 0 2.83L4 21.41c.39.39.9.59 1.41.59.51 0 1.02-.2 1.41-.59l7.78-7.78 2.81-2.81c.8-.78.8-2.07 0-2.86zM5.41 20L4 18.59l7.72-7.72 1.47 1.35L5.41 20z\"/>\n",
              "  </svg>\n",
              "      </button>\n",
              "      \n",
              "  <style>\n",
              "    .colab-df-container {\n",
              "      display:flex;\n",
              "      flex-wrap:wrap;\n",
              "      gap: 12px;\n",
              "    }\n",
              "\n",
              "    .colab-df-convert {\n",
              "      background-color: #E8F0FE;\n",
              "      border: none;\n",
              "      border-radius: 50%;\n",
              "      cursor: pointer;\n",
              "      display: none;\n",
              "      fill: #1967D2;\n",
              "      height: 32px;\n",
              "      padding: 0 0 0 0;\n",
              "      width: 32px;\n",
              "    }\n",
              "\n",
              "    .colab-df-convert:hover {\n",
              "      background-color: #E2EBFA;\n",
              "      box-shadow: 0px 1px 2px rgba(60, 64, 67, 0.3), 0px 1px 3px 1px rgba(60, 64, 67, 0.15);\n",
              "      fill: #174EA6;\n",
              "    }\n",
              "\n",
              "    [theme=dark] .colab-df-convert {\n",
              "      background-color: #3B4455;\n",
              "      fill: #D2E3FC;\n",
              "    }\n",
              "\n",
              "    [theme=dark] .colab-df-convert:hover {\n",
              "      background-color: #434B5C;\n",
              "      box-shadow: 0px 1px 3px 1px rgba(0, 0, 0, 0.15);\n",
              "      filter: drop-shadow(0px 1px 2px rgba(0, 0, 0, 0.3));\n",
              "      fill: #FFFFFF;\n",
              "    }\n",
              "  </style>\n",
              "\n",
              "      <script>\n",
              "        const buttonEl =\n",
              "          document.querySelector('#df-6a6b5cfa-1692-48db-bdfc-01db2d307b09 button.colab-df-convert');\n",
              "        buttonEl.style.display =\n",
              "          google.colab.kernel.accessAllowed ? 'block' : 'none';\n",
              "\n",
              "        async function convertToInteractive(key) {\n",
              "          const element = document.querySelector('#df-6a6b5cfa-1692-48db-bdfc-01db2d307b09');\n",
              "          const dataTable =\n",
              "            await google.colab.kernel.invokeFunction('convertToInteractive',\n",
              "                                                     [key], {});\n",
              "          if (!dataTable) return;\n",
              "\n",
              "          const docLinkHtml = 'Like what you see? Visit the ' +\n",
              "            '<a target=\"_blank\" href=https://colab.research.google.com/notebooks/data_table.ipynb>data table notebook</a>'\n",
              "            + ' to learn more about interactive tables.';\n",
              "          element.innerHTML = '';\n",
              "          dataTable['output_type'] = 'display_data';\n",
              "          await google.colab.output.renderOutput(dataTable, element);\n",
              "          const docLink = document.createElement('div');\n",
              "          docLink.innerHTML = docLinkHtml;\n",
              "          element.appendChild(docLink);\n",
              "        }\n",
              "      </script>\n",
              "    </div>\n",
              "  </div>\n",
              "  "
            ]
          },
          "metadata": {},
          "execution_count": 2
        }
      ]
    },
    {
      "cell_type": "markdown",
      "metadata": {
        "id": "4xRrrP8Z5jeR"
      },
      "source": [
        "資料說明\n",
        "* CRIM：按城鎮劃分的人均犯罪率\n",
        "* ZN：超過25,000平方英尺的土地劃為住宅用地的比例\n",
        "* INDUS：城鎮非零售商用土地的比例\n",
        "* CHAS：Charles River虛擬變數(如果靠近河流為1；否則為0)\n",
        "* NOX：一氧化氮濃度(以百萬分之幾為單位)\n",
        "* RM：每個住宅的平均房間數\n",
        "* AGE：1940年之前建造自有單位的比例\n",
        "* DIS：到五個波士頓就業中心的加權距離\n",
        "* RAD：徑向公路的可達性指標\n",
        "* TAX：每10,000美金的全值財產稅率\n",
        "* PTRATIO：城鎮的師生比例\n",
        "* B：1000(Bk-0.63)^2，其中Bk是按城鎮劃分的非裔比例\n",
        "* LSTAT：低階人口狀況百分比\n",
        "* MEDV：自有住房的中位數價格(單位為1,000美元)"
      ]
    },
    {
      "cell_type": "code",
      "metadata": {
        "id": "vBk550bLr7sO",
        "outputId": "450e1a19-5ab5-451e-c16f-1c2020c3d312",
        "colab": {
          "base_uri": "https://localhost:8080/"
        }
      },
      "source": [
        "X = pd.DataFrame(boston.data)\n",
        "y = pd.DataFrame(boston.target)\n",
        "y = np.squeeze(y)\n",
        "\n",
        "print(X.shape)\n",
        "print(y.shape)\n"
      ],
      "execution_count": null,
      "outputs": [
        {
          "output_type": "stream",
          "name": "stdout",
          "text": [
            "(506, 13)\n",
            "(506,)\n"
          ]
        }
      ]
    },
    {
      "cell_type": "code",
      "metadata": {
        "id": "9_wlpfa3uXuE",
        "outputId": "468642f8-a419-4b3b-974d-e7f8fc13f00f",
        "colab": {
          "base_uri": "https://localhost:8080/"
        }
      },
      "source": [
        "# TODO\n",
        "#分出80%的資料作為training set\n",
        "from sklearn.model_selection import train_test_split\n",
        "X_train, X_test, y_train, y_test = train_test_split(X, y, test_size = 0.2, random_state = 1) #請勿異動random state\n",
        "print(X_train.shape, X_test.shape, y_train.shape, y_test.shape)\n"
      ],
      "execution_count": null,
      "outputs": [
        {
          "output_type": "stream",
          "name": "stdout",
          "text": [
            "(404, 13) (102, 13) (404,) (102,)\n"
          ]
        }
      ]
    },
    {
      "cell_type": "code",
      "metadata": {
        "id": "-v4GoH-OuyfK",
        "colab": {
          "base_uri": "https://localhost:8080/"
        },
        "outputId": "b333841c-ad1a-4c89-c6e8-b93f722e133a"
      },
      "source": [
        "# TODO\n",
        "# 使用training set 進行 Fit linear model 配適線性模型\n",
        "from sklearn.linear_model import LinearRegression\n",
        "regressor = LinearRegression()\n",
        "regressor.fit(X_train, y_train)\n"
      ],
      "execution_count": null,
      "outputs": [
        {
          "output_type": "execute_result",
          "data": {
            "text/plain": [
              "LinearRegression()"
            ]
          },
          "metadata": {},
          "execution_count": 5
        }
      ]
    },
    {
      "cell_type": "markdown",
      "source": [
        "# Test the model"
      ],
      "metadata": {
        "id": "cGb-V9pub593"
      }
    },
    {
      "cell_type": "code",
      "metadata": {
        "id": "gA4DwUZ6uu7T",
        "colab": {
          "base_uri": "https://localhost:8080/"
        },
        "outputId": "e87f30e1-9e63-494e-83d9-d9be558ee1f0"
      },
      "source": [
        "# TODO\n",
        "# 使用test set進行預測\n",
        "from sklearn.metrics import r2_score, mean_absolute_error, mean_squared_error\n",
        "y_pred = regressor.predict(X_test)\n",
        "print('MAE:', mean_absolute_error(y_test, y_pred))\n",
        "print('MSE:', mean_squared_error(y_test, y_pred, squared=True))\n",
        "print('RMSE:', mean_squared_error(y_test, y_pred, squared=False))\n",
        "print('R2:', r2_score(y_test, y_pred))# 正確答案與預測出的結果\n",
        "print('Score:',regressor.score(X_test, y_test))"
      ],
      "execution_count": null,
      "outputs": [
        {
          "output_type": "stream",
          "name": "stdout",
          "text": [
            "MAE: 3.7507121808389092\n",
            "MSE: 23.38083648026999\n",
            "RMSE: 4.835373458200514\n",
            "R2: 0.7634174432138495\n",
            "Score: 0.7634174432138495\n"
          ]
        }
      ]
    },
    {
      "cell_type": "markdown",
      "metadata": {
        "id": "gnFxDiWIeRfg"
      },
      "source": [
        "請參考下方程式，完成r2, mse, mae的定義\n",
        "\n",
        "* np.sum((actual-preds)**2)\n",
        "* np.sum(np.abs(actual-preds))\n",
        "* np.sum((actual-np.mean(actual))**2)\n",
        "* np.sum(np.abs(actual-np.mean(actual)))\n",
        "* np.sum((actual-preds)**2)/len(actual)\n",
        "* np.sum(np.abs(actual-preds))/len(actual)\n",
        "* np.sum((actual-np.mean(actual))**2)/len(actual)\n",
        "* np.sum(np.abs(actual-np.mean(actual)))/len(actual)\n"
      ]
    },
    {
      "cell_type": "code",
      "metadata": {
        "id": "78cUHsB_AdWs",
        "colab": {
          "base_uri": "https://localhost:8080/"
        },
        "outputId": "2947eb0d-413c-48ce-831f-e86e58298e33"
      },
      "source": [
        "# TODO\n",
        "def r2(actual, preds):\n",
        "\n",
        "  sse = np.sum((actual-preds)**2) # SSres\n",
        "  sst = np.sum((actual-np.mean(actual))**2) #SStot\n",
        "  return 1 - sse/sst\n",
        "# Check solution matches sklearn\n",
        "print(r2(y_test, y_pred))\n",
        "print(r2_score(y_test, y_pred))"
      ],
      "execution_count": null,
      "outputs": [
        {
          "output_type": "stream",
          "name": "stdout",
          "text": [
            "0.7634174432138496\n",
            "0.7634174432138495\n"
          ]
        }
      ]
    },
    {
      "cell_type": "code",
      "metadata": {
        "id": "zxj0oWoOAdu5",
        "colab": {
          "base_uri": "https://localhost:8080/"
        },
        "outputId": "eece2b54-3a03-4e4d-855a-498064f45179"
      },
      "source": [
        "def mse(actual, preds):\n",
        "    \n",
        "    return np.sum((actual-preds)**2)/len(actual)\n",
        "\n",
        "# Check your solution matches sklearn\n",
        "print(mse(y_test, y_pred))\n",
        "print(mean_squared_error(y_test, y_pred))"
      ],
      "execution_count": null,
      "outputs": [
        {
          "output_type": "stream",
          "name": "stdout",
          "text": [
            "23.38083648026999\n",
            "23.38083648026999\n"
          ]
        }
      ]
    },
    {
      "cell_type": "code",
      "metadata": {
        "id": "p40mdhITAeDJ",
        "colab": {
          "base_uri": "https://localhost:8080/"
        },
        "outputId": "a978cefc-706f-4c36-8c98-f5cf070a3a42"
      },
      "source": [
        "def mae(actual, preds):\n",
        "    \n",
        "    return np.sum(np.abs(actual-preds))/len(actual)\n",
        "\n",
        "# Check your solution matches sklearn\n",
        "print(mae(y_test, y_pred))\n",
        "print(mean_absolute_error(y_test, y_pred))"
      ],
      "execution_count": null,
      "outputs": [
        {
          "output_type": "stream",
          "name": "stdout",
          "text": [
            "3.7507121808389092\n",
            "3.7507121808389092\n"
          ]
        }
      ]
    },
    {
      "cell_type": "code",
      "metadata": {
        "id": "apndR31dA9qV",
        "colab": {
          "base_uri": "https://localhost:8080/"
        },
        "outputId": "a10a37e0-82f6-4021-f7e4-992edb96ed5f"
      },
      "source": [
        "# TODO\n",
        "print('MAE:', mae(y_test, y_pred))\n",
        "print('MSE:', mse(y_test, y_pred))\n",
        "print('R2:', r2(y_test, y_pred))\n"
      ],
      "execution_count": null,
      "outputs": [
        {
          "output_type": "stream",
          "name": "stdout",
          "text": [
            "MAE: 3.7507121808389092\n",
            "MSE: 23.38083648026999\n",
            "R2: 0.7634174432138496\n"
          ]
        }
      ]
    },
    {
      "cell_type": "markdown",
      "source": [
        "# Backward Elimination"
      ],
      "metadata": {
        "id": "SRqsDqVue-pd"
      }
    },
    {
      "cell_type": "code",
      "metadata": {
        "id": "JfEUuqEy3qvP",
        "colab": {
          "base_uri": "https://localhost:8080/"
        },
        "outputId": "5343b5ca-7eea-44f5-85dc-a19a34e87d0c"
      },
      "source": [
        "# TODO\n",
        "# 請使用training set進行反向淘汰\n",
        "import statsmodels.api as sm\n",
        "X_train_c = sm.add_constant(X_train)\n",
        "X_train_c = np.array(X_train_c, dtype='float')\n",
        "X_opt = X_train_c[:, [0, 1, 2, 3, 4, 5, 6, 7, 8, 9, 10, 11, 12, 13]]\n",
        "\n",
        "regressor_OLS = sm.OLS(y_train, X_opt).fit()\n",
        "print(regressor_OLS.summary())\n"
      ],
      "execution_count": null,
      "outputs": [
        {
          "output_type": "stream",
          "name": "stderr",
          "text": [
            "/usr/local/lib/python3.7/dist-packages/statsmodels/tools/_testing.py:19: FutureWarning: pandas.util.testing is deprecated. Use the functions in the public API at pandas.testing instead.\n",
            "  import pandas.util.testing as tm\n"
          ]
        },
        {
          "output_type": "stream",
          "name": "stdout",
          "text": [
            "                            OLS Regression Results                            \n",
            "==============================================================================\n",
            "Dep. Variable:                      y   R-squared:                       0.729\n",
            "Model:                            OLS   Adj. R-squared:                  0.720\n",
            "Method:                 Least Squares   F-statistic:                     80.85\n",
            "Date:                Tue, 19 Apr 2022   Prob (F-statistic):          5.53e-102\n",
            "Time:                        05:53:40   Log-Likelihood:                -1196.4\n",
            "No. Observations:                 404   AIC:                             2421.\n",
            "Df Residuals:                     390   BIC:                             2477.\n",
            "Df Model:                          13                                         \n",
            "Covariance Type:            nonrobust                                         \n",
            "==============================================================================\n",
            "                 coef    std err          t      P>|t|      [0.025      0.975]\n",
            "------------------------------------------------------------------------------\n",
            "const         42.9335      5.752      7.464      0.000      31.625      54.242\n",
            "x1            -0.1124      0.034     -3.288      0.001      -0.180      -0.045\n",
            "x2             0.0581      0.016      3.596      0.000       0.026       0.090\n",
            "x3             0.0184      0.068      0.271      0.786      -0.115       0.151\n",
            "x4             2.1300      0.909      2.343      0.020       0.343       3.917\n",
            "x5           -19.5811      4.276     -4.579      0.000     -27.988     -11.174\n",
            "x6             3.0955      0.479      6.465      0.000       2.154       4.037\n",
            "x7             0.0045      0.015      0.298      0.766      -0.025       0.034\n",
            "x8            -1.5005      0.229     -6.544      0.000      -1.951      -1.050\n",
            "x9             0.3054      0.078      3.917      0.000       0.152       0.459\n",
            "x10           -0.0111      0.004     -2.532      0.012      -0.020      -0.002\n",
            "x11           -0.9890      0.149     -6.631      0.000      -1.282      -0.696\n",
            "x12            0.0073      0.003      2.428      0.016       0.001       0.013\n",
            "x13           -0.5446      0.057     -9.489      0.000      -0.657      -0.432\n",
            "==============================================================================\n",
            "Omnibus:                      162.425   Durbin-Watson:                   1.892\n",
            "Prob(Omnibus):                  0.000   Jarque-Bera (JB):              785.316\n",
            "Skew:                           1.688   Prob(JB):                    2.96e-171\n",
            "Kurtosis:                       8.937   Cond. No.                     1.50e+04\n",
            "==============================================================================\n",
            "\n",
            "Warnings:\n",
            "[1] Standard Errors assume that the covariance matrix of the errors is correctly specified.\n",
            "[2] The condition number is large, 1.5e+04. This might indicate that there are\n",
            "strong multicollinearity or other numerical problems.\n"
          ]
        },
        {
          "output_type": "stream",
          "name": "stderr",
          "text": [
            "/usr/local/lib/python3.7/dist-packages/statsmodels/tsa/tsatools.py:117: FutureWarning: In a future version of pandas all arguments of concat except for the argument 'objs' will be keyword-only\n",
            "  x = pd.concat(x[::order], 1)\n"
          ]
        }
      ]
    },
    {
      "cell_type": "code",
      "metadata": {
        "id": "Dn2uWPFp8u1-",
        "colab": {
          "base_uri": "https://localhost:8080/"
        },
        "outputId": "0c73c318-13bf-4abd-f531-b6b2f664fc4b"
      },
      "source": [
        "# TODO\n",
        "# 請選擇移除一個特徵\n",
        "X_opt = X_train_c[:, [0, 1, 2, 4, 5, 6, 7, 8, 9, 10, 11, 12, 13]]\n",
        "\n",
        "regressor_OLS = sm.OLS(y_train, X_opt).fit()\n",
        "print(regressor_OLS.summary())\n"
      ],
      "execution_count": null,
      "outputs": [
        {
          "output_type": "stream",
          "name": "stdout",
          "text": [
            "                            OLS Regression Results                            \n",
            "==============================================================================\n",
            "Dep. Variable:                      y   R-squared:                       0.729\n",
            "Model:                            OLS   Adj. R-squared:                  0.721\n",
            "Method:                 Least Squares   F-statistic:                     87.79\n",
            "Date:                Tue, 19 Apr 2022   Prob (F-statistic):          5.99e-103\n",
            "Time:                        05:54:33   Log-Likelihood:                -1196.4\n",
            "No. Observations:                 404   AIC:                             2419.\n",
            "Df Residuals:                     391   BIC:                             2471.\n",
            "Df Model:                          12                                         \n",
            "Covariance Type:            nonrobust                                         \n",
            "==============================================================================\n",
            "                 coef    std err          t      P>|t|      [0.025      0.975]\n",
            "------------------------------------------------------------------------------\n",
            "const         42.8163      5.729      7.474      0.000      31.553      54.079\n",
            "x1            -0.1126      0.034     -3.301      0.001      -0.180      -0.046\n",
            "x2             0.0575      0.016      3.595      0.000       0.026       0.089\n",
            "x3             2.1502      0.905      2.376      0.018       0.371       3.929\n",
            "x4           -19.2545      4.098     -4.698      0.000     -27.312     -11.197\n",
            "x5             3.0860      0.477      6.470      0.000       2.148       4.024\n",
            "x6             0.0044      0.015      0.293      0.770      -0.025       0.034\n",
            "x7            -1.5111      0.226     -6.696      0.000      -1.955      -1.067\n",
            "x8             0.2994      0.075      4.005      0.000       0.152       0.446\n",
            "x9            -0.0106      0.004     -2.664      0.008      -0.018      -0.003\n",
            "x10           -0.9835      0.148     -6.665      0.000      -1.274      -0.693\n",
            "x11            0.0073      0.003      2.422      0.016       0.001       0.013\n",
            "x12           -0.5433      0.057     -9.511      0.000      -0.656      -0.431\n",
            "==============================================================================\n",
            "Omnibus:                      162.775   Durbin-Watson:                   1.894\n",
            "Prob(Omnibus):                  0.000   Jarque-Bera (JB):              789.421\n",
            "Skew:                           1.691   Prob(JB):                    3.80e-172\n",
            "Kurtosis:                       8.954   Cond. No.                     1.49e+04\n",
            "==============================================================================\n",
            "\n",
            "Warnings:\n",
            "[1] Standard Errors assume that the covariance matrix of the errors is correctly specified.\n",
            "[2] The condition number is large, 1.49e+04. This might indicate that there are\n",
            "strong multicollinearity or other numerical problems.\n"
          ]
        }
      ]
    },
    {
      "cell_type": "code",
      "metadata": {
        "id": "dSd2QsRG-kdu",
        "colab": {
          "base_uri": "https://localhost:8080/"
        },
        "outputId": "849b698e-3649-4190-d6b5-99ff66a47553"
      },
      "source": [
        "# TODO\n",
        "# 請選擇再移除一個特徵\n",
        "X_opt = X_train_c[:, [0, 1, 2, 4, 5, 6, 8, 9, 10, 11, 12, 13]]\n",
        "\n",
        "regressor_OLS = sm.OLS(y_train, X_opt).fit()\n",
        "print(regressor_OLS.summary())\n"
      ],
      "execution_count": null,
      "outputs": [
        {
          "output_type": "stream",
          "name": "stdout",
          "text": [
            "                            OLS Regression Results                            \n",
            "==============================================================================\n",
            "Dep. Variable:                      y   R-squared:                       0.729\n",
            "Model:                            OLS   Adj. R-squared:                  0.722\n",
            "Method:                 Least Squares   F-statistic:                     95.98\n",
            "Date:                Tue, 19 Apr 2022   Prob (F-statistic):          6.22e-104\n",
            "Time:                        05:55:05   Log-Likelihood:                -1196.5\n",
            "No. Observations:                 404   AIC:                             2417.\n",
            "Df Residuals:                     392   BIC:                             2465.\n",
            "Df Model:                          11                                         \n",
            "Covariance Type:            nonrobust                                         \n",
            "==============================================================================\n",
            "                 coef    std err          t      P>|t|      [0.025      0.975]\n",
            "------------------------------------------------------------------------------\n",
            "const         42.6921      5.706      7.481      0.000      31.473      53.911\n",
            "x1            -0.1128      0.034     -3.308      0.001      -0.180      -0.046\n",
            "x2             0.0571      0.016      3.588      0.000       0.026       0.088\n",
            "x3             2.1609      0.903      2.393      0.017       0.385       3.936\n",
            "x4           -18.9565      3.965     -4.781      0.000     -26.752     -11.161\n",
            "x5             3.1147      0.466      6.680      0.000       2.198       4.031\n",
            "x6            -1.5324      0.213     -7.181      0.000      -1.952      -1.113\n",
            "x7             0.2979      0.074      3.999      0.000       0.151       0.444\n",
            "x8            -0.0106      0.004     -2.661      0.008      -0.018      -0.003\n",
            "x9            -0.9798      0.147     -6.671      0.000      -1.269      -0.691\n",
            "x10            0.0073      0.003      2.443      0.015       0.001       0.013\n",
            "x11           -0.5369      0.053    -10.192      0.000      -0.640      -0.433\n",
            "==============================================================================\n",
            "Omnibus:                      164.635   Durbin-Watson:                   1.895\n",
            "Prob(Omnibus):                  0.000   Jarque-Bera (JB):              811.299\n",
            "Skew:                           1.707   Prob(JB):                    6.74e-177\n",
            "Kurtosis:                       9.044   Cond. No.                     1.46e+04\n",
            "==============================================================================\n",
            "\n",
            "Warnings:\n",
            "[1] Standard Errors assume that the covariance matrix of the errors is correctly specified.\n",
            "[2] The condition number is large, 1.46e+04. This might indicate that there are\n",
            "strong multicollinearity or other numerical problems.\n"
          ]
        }
      ]
    }
  ]
}